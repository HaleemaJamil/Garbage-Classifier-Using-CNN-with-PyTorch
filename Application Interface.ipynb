{
 "cells": [
  {
   "cell_type": "code",
   "execution_count": 1,
   "id": "f6ff7db8",
   "metadata": {},
   "outputs": [],
   "source": [
    "import tkinter as tk\n",
    "from PIL import ImageTk, Image\n",
    "import numpy as np"
   ]
  },
  {
   "cell_type": "code",
   "execution_count": 2,
   "id": "0301a6f8",
   "metadata": {},
   "outputs": [],
   "source": [
    "import tensorflow as tf\n",
    "\n",
    "# Load the SavedModel\n",
    "model = tf.keras.models.load_model('./saved_model')"
   ]
  },
  {
   "cell_type": "code",
   "execution_count": 3,
   "id": "c78c196a",
   "metadata": {},
   "outputs": [],
   "source": [
    "from tkinter import filedialog\n",
    "import cv2"
   ]
  },
  {
   "cell_type": "code",
   "execution_count": 4,
   "id": "b53730ce",
   "metadata": {},
   "outputs": [],
   "source": [
    "# Create a Tkinter application and define its layout\n",
    "app = tk.Tk()\n",
    "app.title(\"Image Classification\")\n",
    "app.geometry(\"400x400\")\n",
    "\n",
    "label = tk.Label(app, text=\"Upload an image:\")\n",
    "label.pack()\n",
    "\n",
    "canvas = tk.Canvas(app, width=300, height=300)\n",
    "canvas.pack()\n",
    "\n",
    "result_label = tk.Label(app, text=\"\")\n",
    "result_label.pack()"
   ]
  },
  {
   "cell_type": "code",
   "execution_count": 5,
   "id": "fdb6095d",
   "metadata": {},
   "outputs": [],
   "source": [
    "from tkinter import filedialog\n",
    "import cv2\n",
    "import numpy as np\n",
    "\n",
    "def classify_image():\n",
    "    image_path = filedialog.askopenfilename()  # Opens a file dialog to choose an image file\n",
    "    if image_path:\n",
    "        image = cv2.imread(image_path, cv2.COLOR_BGR2RGB)\n",
    "        image = cv2.resize(image, (256, 256), interpolation=cv2.INTER_AREA)\n",
    "        image = np.array(image)\n",
    "        image = image.astype('float32')\n",
    "        image /= 255\n",
    "        if len(image.shape) == 3:\n",
    "            # Add an extra dimension for batch size\n",
    "            image = np.expand_dims(image, axis=0)\n",
    "            \n",
    "            # Make predictions\n",
    "            prediction = np.argmax(model.predict(image), axis=1)\n",
    "            \n",
    "            # Display the predicted class\n",
    "            class_labels = [\"Metal\", \"Paper\", \"Plastic\"]\n",
    "            result_label.config(text=f\"Predicted class: {class_labels[prediction[0]]}\")\n",
    "        else:\n",
    "            result_label.config(text=\"Image is not RGB\")\n"
   ]
  },
  {
   "cell_type": "code",
   "execution_count": 6,
   "id": "9363bcac",
   "metadata": {},
   "outputs": [
    {
     "name": "stdout",
     "output_type": "stream",
     "text": [
      "1/1 [==============================] - 1s 1s/step\n"
     ]
    }
   ],
   "source": [
    "# Create a button to trigger the image classification\n",
    "classify_button = tk.Button(app, text=\"Upload\", command=classify_image)\n",
    "classify_button.pack()\n",
    "\n",
    "# Start the GUI application\n",
    "app.mainloop()"
   ]
  }
 ],
 "metadata": {
  "kernelspec": {
   "display_name": "Python 3 (ipykernel)",
   "language": "python",
   "name": "python3"
  },
  "language_info": {
   "codemirror_mode": {
    "name": "ipython",
    "version": 3
   },
   "file_extension": ".py",
   "mimetype": "text/x-python",
   "name": "python",
   "nbconvert_exporter": "python",
   "pygments_lexer": "ipython3",
   "version": "3.9.13"
  }
 },
 "nbformat": 4,
 "nbformat_minor": 5
}
